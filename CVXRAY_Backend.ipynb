{
 "cells": [
  {
   "cell_type": "code",
   "execution_count": 1,
   "metadata": {},
   "outputs": [
    {
     "name": "stdout",
     "output_type": "stream",
     "text": [
      "c:\\Users\\Pranav Belmannu\\Documents\\Rel8ted.to\\CVXRAY\n"
     ]
    }
   ],
   "source": [
    "import os\n",
    "\n",
    "# Check current working directory\n",
    "print(os.getcwd())\n",
    "\n",
    "# Change working directory if needed\n",
    "os.chdir('C:\\\\Users\\\\Pranav Belmannu\\\\Documents\\\\Rel8ted.to\\\\CVXRAY')\n"
   ]
  },
  {
   "cell_type": "code",
   "execution_count": 9,
   "metadata": {},
   "outputs": [
    {
     "name": "stdout",
     "output_type": "stream",
     "text": [
      "Defaulting to user installation because normal site-packages is not writeableNote: you may need to restart the kernel to use updated packages.\n",
      "\n",
      "Requirement already satisfied: django in c:\\users\\pranav belmannu\\appdata\\roaming\\python\\python39\\site-packages (4.2.1)\n",
      "Requirement already satisfied: tzdata in c:\\users\\pranav belmannu\\appdata\\roaming\\python\\python39\\site-packages (from django) (2023.3)\n",
      "Requirement already satisfied: asgiref<4,>=3.6.0 in c:\\users\\pranav belmannu\\appdata\\roaming\\python\\python39\\site-packages (from django) (3.7.2)\n",
      "Requirement already satisfied: sqlparse>=0.3.1 in c:\\users\\pranav belmannu\\appdata\\roaming\\python\\python39\\site-packages (from django) (0.4.4)\n",
      "Requirement already satisfied: typing-extensions>=4 in c:\\users\\pranav belmannu\\appdata\\roaming\\python\\python39\\site-packages (from asgiref<4,>=3.6.0->django) (4.12.2)\n"
     ]
    }
   ],
   "source": [
    "%pip install django"
   ]
  },
  {
   "cell_type": "code",
   "execution_count": 2,
   "metadata": {},
   "outputs": [
    {
     "name": "stdout",
     "output_type": "stream",
     "text": [
      "Defaulting to user installation because normal site-packages is not writeable\n",
      "Requirement already satisfied: babel in c:\\users\\pranav belmannu\\appdata\\roaming\\python\\python39\\site-packages (2.16.0)\n",
      "Note: you may need to restart the kernel to use updated packages.\n",
      "Defaulting to user installation because normal site-packages is not writeable\n",
      "Requirement already satisfied: python-dateutil in c:\\users\\pranav belmannu\\appdata\\roaming\\python\\python39\\site-packages (2.9.0.post0)\n",
      "Requirement already satisfied: six>=1.5 in c:\\programdata\\anaconda3\\lib\\site-packages (from python-dateutil) (1.16.0)\n",
      "Note: you may need to restart the kernel to use updated packages.\n",
      "Defaulting to user installation because normal site-packages is not writeable\n",
      "Requirement already satisfied: flask-moment in c:\\users\\pranav belmannu\\appdata\\roaming\\python\\python39\\site-packages (1.0.6)\n",
      "Requirement already satisfied: packaging>=14.1 in c:\\programdata\\anaconda3\\lib\\site-packages (from flask-moment) (21.3)\n",
      "Requirement already satisfied: Flask in c:\\users\\pranav belmannu\\appdata\\roaming\\python\\python39\\site-packages (from flask-moment) (3.0.3)\n",
      "Requirement already satisfied: pyparsing!=3.0.5,>=2.0.2 in c:\\programdata\\anaconda3\\lib\\site-packages (from packaging>=14.1->flask-moment) (3.0.9)\n",
      "Requirement already satisfied: importlib-metadata>=3.6.0 in c:\\programdata\\anaconda3\\lib\\site-packages (from Flask->flask-moment) (4.11.3)\n",
      "Requirement already satisfied: itsdangerous>=2.1.2 in c:\\users\\pranav belmannu\\appdata\\roaming\\python\\python39\\site-packages (from Flask->flask-moment) (2.2.0)\n",
      "Requirement already satisfied: click>=8.1.3 in c:\\users\\pranav belmannu\\appdata\\roaming\\python\\python39\\site-packages (from Flask->flask-moment) (8.1.7)\n",
      "Requirement already satisfied: Jinja2>=3.1.2 in c:\\users\\pranav belmannu\\appdata\\roaming\\python\\python39\\site-packages (from Flask->flask-moment) (3.1.4)\n",
      "Requirement already satisfied: blinker>=1.6.2 in c:\\users\\pranav belmannu\\appdata\\roaming\\python\\python39\\site-packages (from Flask->flask-moment) (1.8.2)\n",
      "Requirement already satisfied: Werkzeug>=3.0.0 in c:\\users\\pranav belmannu\\appdata\\roaming\\python\\python39\\site-packages (from Flask->flask-moment) (3.0.3)\n",
      "Requirement already satisfied: colorama in c:\\programdata\\anaconda3\\lib\\site-packages (from click>=8.1.3->Flask->flask-moment) (0.4.5)\n",
      "Requirement already satisfied: zipp>=0.5 in c:\\programdata\\anaconda3\\lib\\site-packages (from importlib-metadata>=3.6.0->Flask->flask-moment) (3.8.0)\n",
      "Requirement already satisfied: MarkupSafe>=2.0 in c:\\users\\pranav belmannu\\appdata\\roaming\\python\\python39\\site-packages (from Jinja2>=3.1.2->Flask->flask-moment) (2.1.5)\n",
      "Note: you may need to restart the kernel to use updated packages.\n",
      "Defaulting to user installation because normal site-packages is not writeable\n",
      "Requirement already satisfied: flask-wtf in c:\\users\\pranav belmannu\\appdata\\roaming\\python\\python39\\site-packages (1.2.1)\n",
      "Requirement already satisfied: wtforms in c:\\users\\pranav belmannu\\appdata\\roaming\\python\\python39\\site-packages (from flask-wtf) (3.1.2)\n",
      "Requirement already satisfied: itsdangerous in c:\\users\\pranav belmannu\\appdata\\roaming\\python\\python39\\site-packages (from flask-wtf) (2.2.0)\n",
      "Requirement already satisfied: flask in c:\\users\\pranav belmannu\\appdata\\roaming\\python\\python39\\site-packages (from flask-wtf) (3.0.3)\n",
      "Requirement already satisfied: Werkzeug>=3.0.0 in c:\\users\\pranav belmannu\\appdata\\roaming\\python\\python39\\site-packages (from flask->flask-wtf) (3.0.3)\n",
      "Requirement already satisfied: blinker>=1.6.2 in c:\\users\\pranav belmannu\\appdata\\roaming\\python\\python39\\site-packages (from flask->flask-wtf) (1.8.2)\n",
      "Requirement already satisfied: importlib-metadata>=3.6.0 in c:\\programdata\\anaconda3\\lib\\site-packages (from flask->flask-wtf) (4.11.3)\n",
      "Requirement already satisfied: click>=8.1.3 in c:\\users\\pranav belmannu\\appdata\\roaming\\python\\python39\\site-packages (from flask->flask-wtf) (8.1.7)\n",
      "Requirement already satisfied: Jinja2>=3.1.2 in c:\\users\\pranav belmannu\\appdata\\roaming\\python\\python39\\site-packages (from flask->flask-wtf) (3.1.4)\n",
      "Requirement already satisfied: markupsafe in c:\\users\\pranav belmannu\\appdata\\roaming\\python\\python39\\site-packages (from wtforms->flask-wtf) (2.1.5)\n",
      "Requirement already satisfied: colorama in c:\\programdata\\anaconda3\\lib\\site-packages (from click>=8.1.3->flask->flask-wtf) (0.4.5)\n",
      "Requirement already satisfied: zipp>=0.5 in c:\\programdata\\anaconda3\\lib\\site-packages (from importlib-metadata>=3.6.0->flask->flask-wtf) (3.8.0)\n",
      "Note: you may need to restart the kernel to use updated packages.\n",
      "Defaulting to user installation because normal site-packages is not writeable\n",
      "Requirement already satisfied: flask_sqlalchemy in c:\\users\\pranav belmannu\\appdata\\roaming\\python\\python39\\site-packages (3.1.1)\n",
      "Requirement already satisfied: sqlalchemy>=2.0.16 in c:\\users\\pranav belmannu\\appdata\\roaming\\python\\python39\\site-packages (from flask_sqlalchemy) (2.0.32)\n",
      "Requirement already satisfied: flask>=2.2.5 in c:\\users\\pranav belmannu\\appdata\\roaming\\python\\python39\\site-packages (from flask_sqlalchemy) (3.0.3)\n",
      "Requirement already satisfied: Werkzeug>=3.0.0 in c:\\users\\pranav belmannu\\appdata\\roaming\\python\\python39\\site-packages (from flask>=2.2.5->flask_sqlalchemy) (3.0.3)\n",
      "Requirement already satisfied: click>=8.1.3 in c:\\users\\pranav belmannu\\appdata\\roaming\\python\\python39\\site-packages (from flask>=2.2.5->flask_sqlalchemy) (8.1.7)\n",
      "Requirement already satisfied: importlib-metadata>=3.6.0 in c:\\programdata\\anaconda3\\lib\\site-packages (from flask>=2.2.5->flask_sqlalchemy) (4.11.3)\n",
      "Requirement already satisfied: itsdangerous>=2.1.2 in c:\\users\\pranav belmannu\\appdata\\roaming\\python\\python39\\site-packages (from flask>=2.2.5->flask_sqlalchemy) (2.2.0)\n",
      "Requirement already satisfied: Jinja2>=3.1.2 in c:\\users\\pranav belmannu\\appdata\\roaming\\python\\python39\\site-packages (from flask>=2.2.5->flask_sqlalchemy) (3.1.4)\n",
      "Requirement already satisfied: blinker>=1.6.2 in c:\\users\\pranav belmannu\\appdata\\roaming\\python\\python39\\site-packages (from flask>=2.2.5->flask_sqlalchemy) (1.8.2)\n",
      "Requirement already satisfied: typing-extensions>=4.6.0 in c:\\users\\pranav belmannu\\appdata\\roaming\\python\\python39\\site-packages (from sqlalchemy>=2.0.16->flask_sqlalchemy) (4.12.2)\n",
      "Requirement already satisfied: greenlet!=0.4.17 in c:\\programdata\\anaconda3\\lib\\site-packages (from sqlalchemy>=2.0.16->flask_sqlalchemy) (1.1.1)\n",
      "Requirement already satisfied: colorama in c:\\programdata\\anaconda3\\lib\\site-packages (from click>=8.1.3->flask>=2.2.5->flask_sqlalchemy) (0.4.5)\n",
      "Requirement already satisfied: zipp>=0.5 in c:\\programdata\\anaconda3\\lib\\site-packages (from importlib-metadata>=3.6.0->flask>=2.2.5->flask_sqlalchemy) (3.8.0)\n",
      "Requirement already satisfied: MarkupSafe>=2.0 in c:\\users\\pranav belmannu\\appdata\\roaming\\python\\python39\\site-packages (from Jinja2>=3.1.2->flask>=2.2.5->flask_sqlalchemy) (2.1.5)\n",
      "Note: you may need to restart the kernel to use updated packages.\n"
     ]
    }
   ],
   "source": [
    "%pip install --upgrade babel\n",
    "%pip install --upgrade python-dateutil\n",
    "%pip install --upgrade flask-moment\n",
    "%pip install --upgrade flask-wtf\n",
    "%pip install --upgrade flask_sqlalchemy"
   ]
  },
  {
   "cell_type": "code",
   "execution_count": 3,
   "metadata": {},
   "outputs": [
    {
     "name": "stdout",
     "output_type": "stream",
     "text": [
      "Defaulting to user installation because normal site-packages is not writeable\n",
      "Requirement already satisfied: flask_ngrok in c:\\users\\pranav belmannu\\appdata\\roaming\\python\\python39\\site-packages (0.0.25)\n",
      "Requirement already satisfied: requests in c:\\users\\pranav belmannu\\appdata\\roaming\\python\\python39\\site-packages (from flask_ngrok) (2.31.0)\n",
      "Requirement already satisfied: Flask>=0.8 in c:\\users\\pranav belmannu\\appdata\\roaming\\python\\python39\\site-packages (from flask_ngrok) (3.0.3)\n",
      "Requirement already satisfied: Jinja2>=3.1.2 in c:\\users\\pranav belmannu\\appdata\\roaming\\python\\python39\\site-packages (from Flask>=0.8->flask_ngrok) (3.1.4)\n",
      "Requirement already satisfied: click>=8.1.3 in c:\\users\\pranav belmannu\\appdata\\roaming\\python\\python39\\site-packages (from Flask>=0.8->flask_ngrok) (8.1.7)\n",
      "Requirement already satisfied: Werkzeug>=3.0.0 in c:\\users\\pranav belmannu\\appdata\\roaming\\python\\python39\\site-packages (from Flask>=0.8->flask_ngrok) (3.0.3)\n",
      "Requirement already satisfied: importlib-metadata>=3.6.0 in c:\\programdata\\anaconda3\\lib\\site-packages (from Flask>=0.8->flask_ngrok) (4.11.3)\n",
      "Requirement already satisfied: itsdangerous>=2.1.2 in c:\\users\\pranav belmannu\\appdata\\roaming\\python\\python39\\site-packages (from Flask>=0.8->flask_ngrok) (2.2.0)\n",
      "Requirement already satisfied: blinker>=1.6.2 in c:\\users\\pranav belmannu\\appdata\\roaming\\python\\python39\\site-packages (from Flask>=0.8->flask_ngrok) (1.8.2)\n",
      "Requirement already satisfied: certifi>=2017.4.17 in c:\\users\\pranav belmannu\\appdata\\roaming\\python\\python39\\site-packages (from requests->flask_ngrok) (2024.2.2)\n",
      "Requirement already satisfied: urllib3<3,>=1.21.1 in c:\\programdata\\anaconda3\\lib\\site-packages (from requests->flask_ngrok) (1.26.11)\n",
      "Requirement already satisfied: charset-normalizer<4,>=2 in c:\\programdata\\anaconda3\\lib\\site-packages (from requests->flask_ngrok) (2.0.4)\n",
      "Requirement already satisfied: idna<4,>=2.5 in c:\\programdata\\anaconda3\\lib\\site-packages (from requests->flask_ngrok) (3.3)\n",
      "Requirement already satisfied: colorama in c:\\programdata\\anaconda3\\lib\\site-packages (from click>=8.1.3->Flask>=0.8->flask_ngrok) (0.4.5)\n",
      "Requirement already satisfied: zipp>=0.5 in c:\\programdata\\anaconda3\\lib\\site-packages (from importlib-metadata>=3.6.0->Flask>=0.8->flask_ngrok) (3.8.0)\n",
      "Requirement already satisfied: MarkupSafe>=2.0 in c:\\users\\pranav belmannu\\appdata\\roaming\\python\\python39\\site-packages (from Jinja2>=3.1.2->Flask>=0.8->flask_ngrok) (2.1.5)\n",
      "Note: you may need to restart the kernel to use updated packages.\n"
     ]
    }
   ],
   "source": [
    "#%pip install Flask>=2.2.2\n",
    "#%pip install ipykernel\n",
    "#%pip uninstall flask\n",
    "%pip install flask_ngrok"
   ]
  },
  {
   "cell_type": "code",
   "execution_count": 4,
   "metadata": {},
   "outputs": [],
   "source": [
    "from flask import Flask,render_template,request\n",
    "from werkzeug.serving import run_simple\n",
    "from flask_ngrok import run_with_ngrok\n",
    "#from html import escape\n",
    "#%pip install jinja2>=\n",
    "#%pip install escape\n",
    "from markupsafe import escape"
   ]
  },
  {
   "cell_type": "code",
   "execution_count": 5,
   "metadata": {
    "scrolled": true
   },
   "outputs": [],
   "source": [
    "#%pip install jinja2 --upgrade\n",
    "#%pip install ruamel-yaml"
   ]
  },
  {
   "cell_type": "code",
   "execution_count": 6,
   "metadata": {},
   "outputs": [],
   "source": [
    "app=Flask(__name__)\n",
    "run_with_ngrok(app)"
   ]
  },
  {
   "cell_type": "code",
   "execution_count": 7,
   "metadata": {},
   "outputs": [],
   "source": [
    "@app.route('/', methods=['GET','POST'])\n",
    "def cvxray_home():\n",
    "    if request.method == 'POST':\n",
    "        # Handle form submission here\n",
    "        fname = request.form.get('fname')\n",
    "        lname = request.form.get('lname')\n",
    "        international_student = request.form.get('international_student')\n",
    "        local = request.form.get('local')\n",
    "        resume = request.files['my_file']\n",
    "\n",
    "        # You can process the form data or save it as needed.\n",
    "        # For example, saving the uploaded file:\n",
    "        uploads_dir = 'uploads'\n",
    "        if not os.path.exists(uploads_dir):\n",
    "            os.makedirs(uploads_dir)\n",
    "        resume.save(os.path.join(uploads_dir, resume.filename))\n",
    "\n",
    "        # Optionally, render a different template or the same one with a success message\n",
    "        return f\"Received: {fname} {lname}, International Student: {international_student}, Local: {local}\"\n",
    "\n",
    "    return render_template('CVXRAY_home.html')"
   ]
  },
  {
   "cell_type": "code",
   "execution_count": 8,
   "metadata": {},
   "outputs": [
    {
     "name": "stderr",
     "output_type": "stream",
     "text": [
      "WARNING: This is a development server. Do not use it in a production deployment. Use a production WSGI server instead.\n",
      " * Running on http://localhost:5000\n",
      "Press CTRL+C to quit\n"
     ]
    },
    {
     "ename": "ImportError",
     "evalue": "cannot import name 'EVENT_TYPE_OPENED' from 'watchdog.events' (c:\\ProgramData\\Anaconda3\\lib\\site-packages\\watchdog\\events.py)",
     "output_type": "error",
     "traceback": [
      "\u001b[1;31m---------------------------------------------------------------------------\u001b[0m",
      "\u001b[1;31mImportError\u001b[0m                               Traceback (most recent call last)",
      "\u001b[1;32m~\\AppData\\Local\\Temp\\ipykernel_38416\\1771384911.py\u001b[0m in \u001b[0;36m<module>\u001b[1;34m\u001b[0m\n\u001b[0;32m      1\u001b[0m \u001b[1;32mif\u001b[0m \u001b[0m__name__\u001b[0m \u001b[1;33m==\u001b[0m \u001b[1;34m'__main__'\u001b[0m\u001b[1;33m:\u001b[0m\u001b[1;33m\u001b[0m\u001b[1;33m\u001b[0m\u001b[0m\n\u001b[1;32m----> 2\u001b[1;33m     \u001b[0mrun_simple\u001b[0m\u001b[1;33m(\u001b[0m\u001b[1;34m'localhost'\u001b[0m\u001b[1;33m,\u001b[0m \u001b[1;36m5000\u001b[0m\u001b[1;33m,\u001b[0m \u001b[0mapp\u001b[0m\u001b[1;33m,\u001b[0m \u001b[0muse_reloader\u001b[0m\u001b[1;33m=\u001b[0m\u001b[1;32mTrue\u001b[0m\u001b[1;33m)\u001b[0m\u001b[1;33m\u001b[0m\u001b[1;33m\u001b[0m\u001b[0m\n\u001b[0m",
      "\u001b[1;32m~\\AppData\\Roaming\\Python\\Python39\\site-packages\\werkzeug\\serving.py\u001b[0m in \u001b[0;36mrun_simple\u001b[1;34m(hostname, port, application, use_reloader, use_debugger, use_evalex, extra_files, exclude_patterns, reloader_interval, reloader_type, threaded, processes, request_handler, static_files, passthrough_errors, ssl_context)\u001b[0m\n\u001b[0;32m   1104\u001b[0m \u001b[1;33m\u001b[0m\u001b[0m\n\u001b[0;32m   1105\u001b[0m         \u001b[1;32mtry\u001b[0m\u001b[1;33m:\u001b[0m\u001b[1;33m\u001b[0m\u001b[1;33m\u001b[0m\u001b[0m\n\u001b[1;32m-> 1106\u001b[1;33m             run_with_reloader(\n\u001b[0m\u001b[0;32m   1107\u001b[0m                 \u001b[0msrv\u001b[0m\u001b[1;33m.\u001b[0m\u001b[0mserve_forever\u001b[0m\u001b[1;33m,\u001b[0m\u001b[1;33m\u001b[0m\u001b[1;33m\u001b[0m\u001b[0m\n\u001b[0;32m   1108\u001b[0m                 \u001b[0mextra_files\u001b[0m\u001b[1;33m=\u001b[0m\u001b[0mextra_files\u001b[0m\u001b[1;33m,\u001b[0m\u001b[1;33m\u001b[0m\u001b[1;33m\u001b[0m\u001b[0m\n",
      "\u001b[1;32m~\\AppData\\Roaming\\Python\\Python39\\site-packages\\werkzeug\\_reloader.py\u001b[0m in \u001b[0;36mrun_with_reloader\u001b[1;34m(main_func, extra_files, exclude_patterns, interval, reloader_type)\u001b[0m\n\u001b[0;32m    440\u001b[0m \u001b[1;33m\u001b[0m\u001b[0m\n\u001b[0;32m    441\u001b[0m     \u001b[0msignal\u001b[0m\u001b[1;33m.\u001b[0m\u001b[0msignal\u001b[0m\u001b[1;33m(\u001b[0m\u001b[0msignal\u001b[0m\u001b[1;33m.\u001b[0m\u001b[0mSIGTERM\u001b[0m\u001b[1;33m,\u001b[0m \u001b[1;32mlambda\u001b[0m \u001b[1;33m*\u001b[0m\u001b[0margs\u001b[0m\u001b[1;33m:\u001b[0m \u001b[0msys\u001b[0m\u001b[1;33m.\u001b[0m\u001b[0mexit\u001b[0m\u001b[1;33m(\u001b[0m\u001b[1;36m0\u001b[0m\u001b[1;33m)\u001b[0m\u001b[1;33m)\u001b[0m\u001b[1;33m\u001b[0m\u001b[1;33m\u001b[0m\u001b[0m\n\u001b[1;32m--> 442\u001b[1;33m     reloader = reloader_loops[reloader_type](\n\u001b[0m\u001b[0;32m    443\u001b[0m         \u001b[0mextra_files\u001b[0m\u001b[1;33m=\u001b[0m\u001b[0mextra_files\u001b[0m\u001b[1;33m,\u001b[0m \u001b[0mexclude_patterns\u001b[0m\u001b[1;33m=\u001b[0m\u001b[0mexclude_patterns\u001b[0m\u001b[1;33m,\u001b[0m \u001b[0minterval\u001b[0m\u001b[1;33m=\u001b[0m\u001b[0minterval\u001b[0m\u001b[1;33m\u001b[0m\u001b[1;33m\u001b[0m\u001b[0m\n\u001b[0;32m    444\u001b[0m     )\n",
      "\u001b[1;32m~\\AppData\\Roaming\\Python\\Python39\\site-packages\\werkzeug\\_reloader.py\u001b[0m in \u001b[0;36m__init__\u001b[1;34m(self, *args, **kwargs)\u001b[0m\n\u001b[0;32m    313\u001b[0m \u001b[1;32mclass\u001b[0m \u001b[0mWatchdogReloaderLoop\u001b[0m\u001b[1;33m(\u001b[0m\u001b[0mReloaderLoop\u001b[0m\u001b[1;33m)\u001b[0m\u001b[1;33m:\u001b[0m\u001b[1;33m\u001b[0m\u001b[1;33m\u001b[0m\u001b[0m\n\u001b[0;32m    314\u001b[0m     \u001b[1;32mdef\u001b[0m \u001b[0m__init__\u001b[0m\u001b[1;33m(\u001b[0m\u001b[0mself\u001b[0m\u001b[1;33m,\u001b[0m \u001b[1;33m*\u001b[0m\u001b[0margs\u001b[0m\u001b[1;33m:\u001b[0m \u001b[0mt\u001b[0m\u001b[1;33m.\u001b[0m\u001b[0mAny\u001b[0m\u001b[1;33m,\u001b[0m \u001b[1;33m**\u001b[0m\u001b[0mkwargs\u001b[0m\u001b[1;33m:\u001b[0m \u001b[0mt\u001b[0m\u001b[1;33m.\u001b[0m\u001b[0mAny\u001b[0m\u001b[1;33m)\u001b[0m \u001b[1;33m->\u001b[0m \u001b[1;32mNone\u001b[0m\u001b[1;33m:\u001b[0m\u001b[1;33m\u001b[0m\u001b[1;33m\u001b[0m\u001b[0m\n\u001b[1;32m--> 315\u001b[1;33m         \u001b[1;32mfrom\u001b[0m \u001b[0mwatchdog\u001b[0m\u001b[1;33m.\u001b[0m\u001b[0mevents\u001b[0m \u001b[1;32mimport\u001b[0m \u001b[0mEVENT_TYPE_OPENED\u001b[0m\u001b[1;33m\u001b[0m\u001b[1;33m\u001b[0m\u001b[0m\n\u001b[0m\u001b[0;32m    316\u001b[0m         \u001b[1;32mfrom\u001b[0m \u001b[0mwatchdog\u001b[0m\u001b[1;33m.\u001b[0m\u001b[0mevents\u001b[0m \u001b[1;32mimport\u001b[0m \u001b[0mFileModifiedEvent\u001b[0m\u001b[1;33m\u001b[0m\u001b[1;33m\u001b[0m\u001b[0m\n\u001b[0;32m    317\u001b[0m         \u001b[1;32mfrom\u001b[0m \u001b[0mwatchdog\u001b[0m\u001b[1;33m.\u001b[0m\u001b[0mevents\u001b[0m \u001b[1;32mimport\u001b[0m \u001b[0mPatternMatchingEventHandler\u001b[0m\u001b[1;33m\u001b[0m\u001b[1;33m\u001b[0m\u001b[0m\n",
      "\u001b[1;31mImportError\u001b[0m: cannot import name 'EVENT_TYPE_OPENED' from 'watchdog.events' (c:\\ProgramData\\Anaconda3\\lib\\site-packages\\watchdog\\events.py)"
     ]
    }
   ],
   "source": [
    "if __name__ == '__main__':\n",
    "    run_simple('localhost', 5000, app, use_reloader=True)"
   ]
  },
  {
   "cell_type": "code",
   "execution_count": null,
   "metadata": {},
   "outputs": [
    {
     "name": "stdout",
     "output_type": "stream",
     "text": [
      "templates\n"
     ]
    }
   ],
   "source": [
    "print(app.template_folder)"
   ]
  }
 ],
 "metadata": {
  "kernelspec": {
   "display_name": "Python 3 (ipykernel)",
   "language": "python",
   "name": "python3"
  },
  "language_info": {
   "codemirror_mode": {
    "name": "ipython",
    "version": 3
   },
   "file_extension": ".py",
   "mimetype": "text/x-python",
   "name": "python",
   "nbconvert_exporter": "python",
   "pygments_lexer": "ipython3",
   "version": "3.9.13"
  }
 },
 "nbformat": 4,
 "nbformat_minor": 2
}
