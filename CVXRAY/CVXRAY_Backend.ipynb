{
 "cells": [
  {
   "cell_type": "code",
   "execution_count": 1,
   "metadata": {},
   "outputs": [],
   "source": [
    "# %pip install django\n",
    "# %pip install --upgrade babel\n",
    "# %pip install --upgrade python-dateutil\n",
    "# %pip install --upgrade flask-moment\n",
    "# %pip install --upgrade flask-wtf\n",
    "# %pip install --upgrade flask_sqlalchemy\n",
    "#%pip install Flask>=2.2.2\n",
    "#%pip install ipykernel\n",
    "#%pip uninstall flask\n",
    "#%pip install flask_ngrok\n",
    "#%pip install jinja2>=\n",
    "#%pip install escape\n",
    "#%pip install jinja2 --upgrade\n",
    "#%pip install ruamel-yaml"
   ]
  },
  {
   "cell_type": "code",
   "execution_count": 3,
   "metadata": {},
   "outputs": [
    {
     "name": "stdout",
     "output_type": "stream",
     "text": [
      "c:\\Users\\Pranav Belmannu\\Documents\\GitHub\\CVXRAY\n"
     ]
    }
   ],
   "source": [
    "import os\n",
    "\n",
    "print(os.getcwd())\n",
    "#os.chdir('C:\\\\Users\\\\Pranav Belmannu\\\\Documents\\\\Rel8ted.to\\\\CVXRAY')\n"
   ]
  },
  {
   "cell_type": "code",
   "execution_count": 13,
   "metadata": {},
   "outputs": [],
   "source": [
    "from flask import Flask,render_template,request\n",
    "from werkzeug.serving import run_simple\n",
    "from flask_ngrok import run_with_ngrok\n",
    "#from html import escape\n",
    "from markupsafe import escape"
   ]
  },
  {
   "cell_type": "code",
   "execution_count": 14,
   "metadata": {},
   "outputs": [],
   "source": [
    "app=Flask(__name__)\n",
    "run_with_ngrok(app)"
   ]
  },
  {
   "cell_type": "code",
   "execution_count": 18,
   "metadata": {},
   "outputs": [],
   "source": [
    "@app.route('/upload', methods=['GET','POST'])\n",
    "def cvxray_home():\n",
    "    if request.method == 'POST':\n",
    "        # Handle form submission here\n",
    "        fname = request.form.get('fname')\n",
    "        lname = request.form.get('lname')\n",
    "        international_student = request.form.get('international_student')\n",
    "        local = request.form.get('local')\n",
    "        resume = request.files['my_file']\n",
    "\n",
    "        # You can process the form data or save it as needed.\n",
    "        # For example, saving the uploaded file:\n",
    "        uploads_dir = 'uploads'\n",
    "        if not os.path.exists(uploads_dir):\n",
    "            os.makedirs(uploads_dir)\n",
    "        resume.save(os.path.join(uploads_dir, resume.filename))\n",
    "\n",
    "        # Optionally, render a different template or the same one with a success message\n",
    "        return f\"Received: {fname} {lname}, International Student: {international_student}, Local: {local}\"\n",
    "\n",
    "    return render_template('CVXRAY_home.html')"
   ]
  },
  {
   "cell_type": "code",
   "execution_count": 21,
   "metadata": {},
   "outputs": [
    {
     "name": "stdout",
     "output_type": "stream",
     "text": [
      " * Serving Flask app '__main__'\n",
      " * Debug mode: off\n"
     ]
    },
    {
     "name": "stderr",
     "output_type": "stream",
     "text": [
      "WARNING: This is a development server. Do not use it in a production deployment. Use a production WSGI server instead.\n",
      " * Running on http://127.0.0.1:5000\n",
      "Press CTRL+C to quit\n",
      "127.0.0.1 - - [21/Aug/2024 15:37:56] \"GET / HTTP/1.1\" 404 -\n",
      "127.0.0.1 - - [21/Aug/2024 15:37:57] \"GET /favicon.ico HTTP/1.1\" 404 -\n",
      "Exception in thread Thread-5:\n",
      "Traceback (most recent call last):\n",
      "  File \"c:\\ProgramData\\Anaconda3\\lib\\threading.py\", line 980, in _bootstrap_inner\n",
      "    self.run()\n",
      "  File \"c:\\ProgramData\\Anaconda3\\lib\\threading.py\", line 1306, in run\n",
      "    self.function(*self.args, **self.kwargs)\n",
      "  File \"C:\\Users\\Pranav Belmannu\\AppData\\Roaming\\Python\\Python39\\site-packages\\flask_ngrok.py\", line 70, in start_ngrok\n",
      "    ngrok_address = _run_ngrok()\n",
      "  File \"C:\\Users\\Pranav Belmannu\\AppData\\Roaming\\Python\\Python39\\site-packages\\flask_ngrok.py\", line 31, in _run_ngrok\n",
      "    ngrok = subprocess.Popen([executable, 'http', '5000'])\n",
      "  File \"c:\\ProgramData\\Anaconda3\\lib\\subprocess.py\", line 951, in __init__\n",
      "    self._execute_child(args, executable, preexec_fn, close_fds,\n",
      "  File \"c:\\ProgramData\\Anaconda3\\lib\\subprocess.py\", line 1420, in _execute_child\n",
      "    hp, ht, pid, tid = _winapi.CreateProcess(executable, args,\n",
      "PermissionError: [WinError 5] Access is denied\n"
     ]
    }
   ],
   "source": [
    "if __name__ == '__main__':\n",
    "    app.run()"
   ]
  },
  {
   "cell_type": "code",
   "execution_count": null,
   "metadata": {},
   "outputs": [
    {
     "name": "stdout",
     "output_type": "stream",
     "text": [
      "templates\n"
     ]
    }
   ],
   "source": [
    "print(app.template_folder)"
   ]
  }
 ],
 "metadata": {
  "kernelspec": {
   "display_name": "Python 3 (ipykernel)",
   "language": "python",
   "name": "python3"
  },
  "language_info": {
   "codemirror_mode": {
    "name": "ipython",
    "version": 3
   },
   "file_extension": ".py",
   "mimetype": "text/x-python",
   "name": "python",
   "nbconvert_exporter": "python",
   "pygments_lexer": "ipython3",
   "version": "3.9.13"
  }
 },
 "nbformat": 4,
 "nbformat_minor": 2
}
